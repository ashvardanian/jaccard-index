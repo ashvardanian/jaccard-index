{
 "cells": [
  {
   "cell_type": "code",
   "execution_count": null,
   "metadata": {},
   "outputs": [],
   "source": [
    "!pip install --upgrade usearch simsimd"
   ]
  },
  {
   "cell_type": "code",
   "execution_count": 15,
   "metadata": {},
   "outputs": [],
   "source": [
    "from usearch.io import load_matrix, save_matrix"
   ]
  },
  {
   "cell_type": "code",
   "execution_count": 11,
   "metadata": {},
   "outputs": [
    {
     "data": {
      "text/plain": [
       "(247154006, 1024)"
      ]
     },
     "execution_count": 11,
     "metadata": {},
     "output_type": "execute_result"
    }
   ],
   "source": [
    "vectors = load_matrix(\n",
    "    'vectors.hbin', \n",
    "    # count_rows=int(10_000_000), \n",
    "    view=True,\n",
    ")\n",
    "vectors.shape"
   ]
  },
  {
   "cell_type": "code",
   "execution_count": 3,
   "metadata": {},
   "outputs": [],
   "source": [
    "import numpy as np\n",
    "from numba import jit, prange"
   ]
  },
  {
   "cell_type": "code",
   "execution_count": 4,
   "metadata": {},
   "outputs": [],
   "source": [
    "@jit(parallel=True, nopython=False)\n",
    "def transposed_bit_matrix(vectors):\n",
    "    # For every dimension we want to extract the column of the matrix\n",
    "    # quantizing them into bits on the fly. We then have to copy it to\n",
    "    # guarantee continuity of the memory layout.\n",
    "    # \n",
    "    #   return np.packbits((vectors.T > 0).astype(np.uint8), axis=1).copy()\n",
    "    #\n",
    "    # That, however, is extrememly slow, so let's write a NumBa kernel to\n",
    "    # do this in parallel.\n",
    "    nvec, ndim = vectors.shape\n",
    "    # The output array will have the same number of rows but\n",
    "    # columns need to be divided by 8 since we pack every 8 bits into one byte\n",
    "    nbits = (nvec + 7) // 8\n",
    "    packed_bits = np.zeros((ndim, nbits), dtype=np.uint8)\n",
    "    \n",
    "    # Moreover, Numba can't deal with `float16`. We want to find positive values.\n",
    "    # We can represent the values as `uint16` and then check the binary representation\n",
    "    # against zero and negative masks.\n",
    "    negative_mask: np.uint16 = 0x8000\n",
    "    zero_mask: np.uint16 = 0x0000\n",
    "    vectors = vectors.view(np.uint16)\n",
    "    \n",
    "    for i in prange(ndim):\n",
    "        # The inner loop goes over the columns.\n",
    "        # We process 8 columns at a time, packing them into a single byte.\n",
    "        for j in range(0, nvec, 8):\n",
    "            byte = 0\n",
    "            # Process each bit; note that we need to handle the case where\n",
    "            # the number of columns is not a multiple of 8\n",
    "            for bit in range(8):\n",
    "                if j + bit < nvec:\n",
    "                    # Shift the bit into the correct position and add it to the byte\n",
    "                    scalar = vectors[j + bit, i]\n",
    "                    scalar_is_positive = (scalar & negative_mask) != 0 and (scalar != zero_mask)\n",
    "                    byte |= (scalar_is_positive << (7 - bit))\n",
    "            # Store the packed byte in the corresponding position\n",
    "            packed_bits[i, j // 8] = byte\n",
    "\n",
    "    return packed_bits    "
   ]
  },
  {
   "cell_type": "code",
   "execution_count": 12,
   "metadata": {},
   "outputs": [
    {
     "data": {
      "text/plain": [
       "(1024, 30894251)"
      ]
     },
     "execution_count": 12,
     "metadata": {},
     "output_type": "execute_result"
    }
   ],
   "source": [
    "bits_fast = transposed_bit_matrix(vectors.view(np.uint16))\n",
    "bits_fast.shape"
   ]
  },
  {
   "cell_type": "code",
   "execution_count": 6,
   "metadata": {},
   "outputs": [],
   "source": [
    "from simsimd import cdist, DistancesTensor"
   ]
  },
  {
   "cell_type": "code",
   "execution_count": 13,
   "metadata": {},
   "outputs": [
    {
     "data": {
      "text/plain": [
       "(1024, 1024)"
      ]
     },
     "execution_count": 13,
     "metadata": {},
     "output_type": "execute_result"
    }
   ],
   "source": [
    "dimensions_similarity: DistancesTensor = cdist(bits_fast, bits_fast, metric=\"hamming\", threads=0) # zero-copy\n",
    "dimensions_similarity_array: np.ndarray = np.array(dimensions_similarity, copy=True) # now managed by NumPy\n",
    "dimensions_similarity_array.shape"
   ]
  },
  {
   "cell_type": "code",
   "execution_count": 14,
   "metadata": {},
   "outputs": [
    {
     "data": {
      "text/plain": [
       "array([[0.00000000e+00, 7.54424390e+07, 1.32564126e+08, ...,\n",
       "        1.03616093e+08, 1.20616484e+08, 1.32747058e+08],\n",
       "       [7.54424390e+07, 0.00000000e+00, 1.48317623e+08, ...,\n",
       "        5.59479740e+07, 1.22022899e+08, 1.39413497e+08],\n",
       "       [1.32564126e+08, 1.48317623e+08, 0.00000000e+00, ...,\n",
       "        1.43602397e+08, 1.24055114e+08, 1.21359838e+08],\n",
       "       ...,\n",
       "       [1.03616093e+08, 5.59479740e+07, 1.43602397e+08, ...,\n",
       "        0.00000000e+00, 1.33712083e+08, 1.56546517e+08],\n",
       "       [1.20616484e+08, 1.22022899e+08, 1.24055114e+08, ...,\n",
       "        1.33712083e+08, 0.00000000e+00, 1.35048516e+08],\n",
       "       [1.32747058e+08, 1.39413497e+08, 1.21359838e+08, ...,\n",
       "        1.56546517e+08, 1.35048516e+08, 0.00000000e+00]])"
      ]
     },
     "execution_count": 14,
     "metadata": {},
     "output_type": "execute_result"
    }
   ],
   "source": [
    "dimensions_similarity"
   ]
  },
  {
   "cell_type": "code",
   "execution_count": 16,
   "metadata": {},
   "outputs": [],
   "source": [
    "dimensions_i32 = dimensions_similarity.astype(np.int32)"
   ]
  },
  {
   "cell_type": "code",
   "execution_count": 17,
   "metadata": {},
   "outputs": [
    {
     "data": {
      "text/plain": [
       "{'data': (98440109832176, False),\n",
       " 'strides': None,\n",
       " 'descr': [('', '<i4')],\n",
       " 'typestr': '<i4',\n",
       " 'shape': (1024, 1024),\n",
       " 'version': 3}"
      ]
     },
     "execution_count": 17,
     "metadata": {},
     "output_type": "execute_result"
    }
   ],
   "source": [
    "dimensions_i32.__array_interface__"
   ]
  },
  {
   "cell_type": "code",
   "execution_count": 18,
   "metadata": {},
   "outputs": [],
   "source": [
    "save_matrix(dimensions_i32, 'dimensions.ibin')"
   ]
  },
  {
   "cell_type": "code",
   "execution_count": 19,
   "metadata": {},
   "outputs": [],
   "source": [
    "import numpy as np\n",
    "\n",
    "def select_greedy_rows(distance_matrix, num_rows_to_select):\n",
    "    # Initialize the set with the index of the first row\n",
    "    selected_indices = {np.argmax(np.sum(distance_matrix, axis=1))}\n",
    "    \n",
    "    # While we need more rows\n",
    "    while len(selected_indices) < num_rows_to_select:\n",
    "        max_dist = 0\n",
    "        max_idx = -1\n",
    "        \n",
    "        # Find the row with the largest minimum distance to the selected set\n",
    "        for i in range(distance_matrix.shape[0]):\n",
    "            if i not in selected_indices:\n",
    "                # Minimum distance to any row in the selected set\n",
    "                min_dist = np.min([distance_matrix[i, j] for j in selected_indices])\n",
    "                if min_dist > max_dist:\n",
    "                    max_dist = min_dist\n",
    "                    max_idx = i\n",
    "        \n",
    "        # Add the index with the largest minimum distance\n",
    "        selected_indices.add(max_idx)\n",
    "    \n",
    "    return list(selected_indices)"
   ]
  },
  {
   "cell_type": "code",
   "execution_count": 20,
   "metadata": {},
   "outputs": [
    {
     "name": "stdout",
     "output_type": "stream",
     "text": [
      "[640, 257, 6, 135, 774, 395, 908, 140, 655, 785, 148, 916, 661, 404, 794, 158, 416, 162, 35, 292, 805, 679, 169, 938, 560, 434, 51, 692, 315, 700, 573, 829, 703, 959, 961, 193, 835, 331, 75, 973, 338, 979, 471, 218, 604, 352, 226, 482, 868, 995, 870, 872, 250, 366, 751, 752, 750, 371, 884, 755, 115, 631, 378, 509]\n"
     ]
    }
   ],
   "source": [
    "selected_rows = select_greedy_rows(dimensions_i32, 64)\n",
    "print(selected_rows)"
   ]
  }
 ],
 "metadata": {
  "kernelspec": {
   "display_name": "base",
   "language": "python",
   "name": "python3"
  },
  "language_info": {
   "codemirror_mode": {
    "name": "ipython",
    "version": 3
   },
   "file_extension": ".py",
   "mimetype": "text/x-python",
   "name": "python",
   "nbconvert_exporter": "python",
   "pygments_lexer": "ipython3",
   "version": "3.12.2"
  }
 },
 "nbformat": 4,
 "nbformat_minor": 2
}
