{
 "cells": [
  {
   "cell_type": "code",
   "execution_count": 1,
   "metadata": {},
   "outputs": [
    {
     "name": "stderr",
     "output_type": "stream",
     "text": [
      "/home/ubuntu/miniconda3/lib/python3.12/site-packages/usearch/__init__.py:100: UserWarning: Will download `usearch_sqlite` binary from GitHub.\n",
      "  warnings.warn(\"Will download `usearch_sqlite` binary from GitHub.\", UserWarning)\n",
      "/home/ubuntu/miniconda3/lib/python3.12/site-packages/usearch/__init__.py:107: UserWarning: Download failed: https://github.com/unum-cloud/usearch/releases/download/v2.10.0/usearch_sqlite_linux_amd64_2.10.0.so could not be found.\n",
      "  warnings.warn(f\"Download failed: {e.url} could not be found.\", UserWarning)\n"
     ]
    }
   ],
   "source": [
    "from usearch.io import load_matrix, save_matrix"
   ]
  },
  {
   "cell_type": "code",
   "execution_count": 2,
   "metadata": {},
   "outputs": [
    {
     "data": {
      "text/plain": [
       "(247154006, 1024)"
      ]
     },
     "execution_count": 2,
     "metadata": {},
     "output_type": "execute_result"
    }
   ],
   "source": [
    "vectors = load_matrix('vectors.hbin', view=True)\n",
    "vectors.shape"
   ]
  },
  {
   "cell_type": "code",
   "execution_count": 3,
   "metadata": {},
   "outputs": [
    {
     "data": {
      "text/plain": [
       "(1024, 1024)"
      ]
     },
     "execution_count": 3,
     "metadata": {},
     "output_type": "execute_result"
    }
   ],
   "source": [
    "dimensions = load_matrix('dimensions.ibin', view=False)\n",
    "dimensions.shape"
   ]
  },
  {
   "cell_type": "code",
   "execution_count": 4,
   "metadata": {},
   "outputs": [],
   "source": [
    "import numpy as np\n",
    "\n",
    "def select_greedy_dimensions(distance_matrix, num_rows_to_select):\n",
    "    # Initialize the set with the index of the first row\n",
    "    selected_indices = {np.argmax(np.sum(distance_matrix, axis=1))}\n",
    "    \n",
    "    # While we need more rows\n",
    "    while len(selected_indices) < num_rows_to_select:\n",
    "        max_dist = 0\n",
    "        max_idx = -1\n",
    "        \n",
    "        # Find the row with the largest minimum distance to the selected set\n",
    "        for i in range(distance_matrix.shape[0]):\n",
    "            if i not in selected_indices:\n",
    "                # Minimum distance to any row in the selected set\n",
    "                min_dist = np.min([distance_matrix[i, j] for j in selected_indices])\n",
    "                if min_dist > max_dist:\n",
    "                    max_dist = min_dist\n",
    "                    max_idx = i\n",
    "        \n",
    "        # Add the index with the largest minimum distance\n",
    "        selected_indices.add(max_idx)\n",
    "    \n",
    "    return list(selected_indices)"
   ]
  },
  {
   "cell_type": "code",
   "execution_count": 5,
   "metadata": {},
   "outputs": [
    {
     "name": "stdout",
     "output_type": "stream",
     "text": [
      "[640, 257, 6, 135, 774, 395, 908, 140, 655, 785, 148, 916, 661, 404, 794, 158, 416, 162, 35, 292, 805, 679, 169, 938, 560, 434, 51, 692, 315, 700, 573, 829, 703, 959, 961, 193, 835, 331, 75, 973, 338, 979, 471, 218, 604, 352, 226, 482, 868, 995, 870, 872, 250, 366, 751, 752, 750, 371, 884, 755, 115, 631, 378, 509]\n",
      "len(dimensions_selected) = 64\n"
     ]
    }
   ],
   "source": [
    "dimensions_selected = select_greedy_dimensions(dimensions, 64)\n",
    "print(dimensions_selected)\n",
    "print(f'{len(dimensions_selected) = }')"
   ]
  },
  {
   "cell_type": "code",
   "execution_count": 6,
   "metadata": {},
   "outputs": [],
   "source": [
    "import numpy as np\n",
    "from numba import jit, prange"
   ]
  },
  {
   "cell_type": "code",
   "execution_count": 7,
   "metadata": {},
   "outputs": [],
   "source": [
    "@jit(parallel=True, nopython=False)\n",
    "def read_dimensions(vectors, dimensions):\n",
    "    # For every row we want to load just a few dimensions\n",
    "    # quantizing them into bits on the fly. We then have to copy it to\n",
    "    # guarantee continuity of the memory layout.\n",
    "    # \n",
    "    #   return np.packbits((vectors[:, dimensions] > 0).astype(np.uint8), axis=1).copy()\n",
    "    #\n",
    "    # That, however, is extrememly slow, so let's write a NumBa kernel to\n",
    "    # do this in parallel.\n",
    "    nvec, _ = vectors.shape\n",
    "    ndim_new = len(dimensions)\n",
    "    nbits = (ndim_new + 7) // 8\n",
    "    packed_bits = np.zeros((nvec, nbits), dtype=np.uint8)\n",
    "    \n",
    "    # Moreover, Numba can't deal with `float16`. We want to find positive values.\n",
    "    # We can represent the values as `uint16` and then check the binary representation\n",
    "    # against zero and negative masks.\n",
    "    negative_mask: np.uint16 = 0x8000\n",
    "    zero_mask: np.uint16 = 0x0000\n",
    "    vectors = vectors.view(np.uint16)\n",
    "    \n",
    "    for i in prange(nvec):\n",
    "        # The inner loop goes over the columns.\n",
    "        # We process 8 columns at a time, packing them into a single byte.\n",
    "        for j in range(0, ndim_new, 8):\n",
    "            byte = 0\n",
    "            # Process each bit; note that we need to handle the case where\n",
    "            # the number of columns is not a multiple of 8\n",
    "            for bit in range(8):\n",
    "                # Shift the bit into the correct position and add it to the byte\n",
    "                k = dimensions[j + bit]\n",
    "                scalar = vectors[i, k]\n",
    "                scalar_is_positive = (scalar & negative_mask) != 0 and (scalar != zero_mask)\n",
    "                byte |= (scalar_is_positive << (7 - bit))\n",
    "            # Store the packed byte in the corresponding position\n",
    "            packed_bits[i, j // 8] = byte\n",
    "\n",
    "    return packed_bits    "
   ]
  },
  {
   "cell_type": "code",
   "execution_count": 13,
   "metadata": {},
   "outputs": [
    {
     "data": {
      "text/plain": [
       "(247154006, 128)"
      ]
     },
     "execution_count": 13,
     "metadata": {},
     "output_type": "execute_result"
    }
   ],
   "source": [
    "bits_all = read_dimensions(vectors.view(np.uint16), np.arange(1024))\n",
    "bits_all.shape"
   ]
  },
  {
   "cell_type": "code",
   "execution_count": 8,
   "metadata": {},
   "outputs": [
    {
     "data": {
      "text/plain": [
       "(247154006, 8)"
      ]
     },
     "execution_count": 8,
     "metadata": {},
     "output_type": "execute_result"
    }
   ],
   "source": [
    "bits_first = read_dimensions(vectors.view(np.uint16), np.arange(64))\n",
    "bits_first.shape"
   ]
  },
  {
   "cell_type": "code",
   "execution_count": 12,
   "metadata": {},
   "outputs": [
    {
     "data": {
      "text/plain": [
       "(247154006, 8)"
      ]
     },
     "execution_count": 12,
     "metadata": {},
     "output_type": "execute_result"
    }
   ],
   "source": [
    "bits_greedy = read_dimensions(vectors.view(np.uint16), np.array(dimensions_selected))\n",
    "bits_greedy.shape"
   ]
  },
  {
   "cell_type": "code",
   "execution_count": 9,
   "metadata": {},
   "outputs": [
    {
     "data": {
      "text/plain": [
       "array([[ 35,  98, 135, ..., 159,  17,  13],\n",
       "       [ 11, 237,  29, ..., 197,  19,   6],\n",
       "       [ 11, 141,  56, ..., 133,   6,   6],\n",
       "       ...,\n",
       "       [143, 133,  52, ..., 162,  26, 130],\n",
       "       [201, 133, 134, ..., 131,  14, 246],\n",
       "       [201, 133, 162, ..., 135,  92, 162]], dtype=uint8)"
      ]
     },
     "execution_count": 9,
     "metadata": {},
     "output_type": "execute_result"
    }
   ],
   "source": [
    "bits_first"
   ]
  },
  {
   "cell_type": "code",
   "execution_count": 13,
   "metadata": {},
   "outputs": [
    {
     "data": {
      "text/plain": [
       "array([[127,  35,  92, ..., 210,  60, 173],\n",
       "       [ 61, 133, 218, ..., 214, 100,   8],\n",
       "       [ 63, 197, 216, ..., 214,  76,  41],\n",
       "       ...,\n",
       "       [102, 122, 204, ..., 129,  10,  19],\n",
       "       [214, 234, 105, ..., 197, 171,  22],\n",
       "       [ 90, 201,  73, ..., 135,  40,   6]], dtype=uint8)"
      ]
     },
     "execution_count": 13,
     "metadata": {},
     "output_type": "execute_result"
    }
   ],
   "source": [
    "bits_greedy"
   ]
  },
  {
   "cell_type": "code",
   "execution_count": 10,
   "metadata": {},
   "outputs": [],
   "source": [
    "save_matrix(bits_first, 'vectors-first-64d.bbin')"
   ]
  },
  {
   "cell_type": "code",
   "execution_count": null,
   "metadata": {},
   "outputs": [],
   "source": [
    "save_matrix(bits_greedy, 'vectors-greedy-64d.bbin')"
   ]
  },
  {
   "cell_type": "code",
   "execution_count": 14,
   "metadata": {},
   "outputs": [],
   "source": [
    "save_matrix(bits_all, 'vectors-binary-1024d.bbin')"
   ]
  },
  {
   "cell_type": "code",
   "execution_count": 17,
   "metadata": {},
   "outputs": [
    {
     "data": {
      "text/plain": [
       "'ice'"
      ]
     },
     "execution_count": 17,
     "metadata": {},
     "output_type": "execute_result"
    }
   ],
   "source": [
    "from usearch.index import Index, MetricKind\n",
    "index = Index(ndim=len(dimensions_selected), metric=MetricKind.Hamming)\n",
    "index.hardware_acceleration"
   ]
  },
  {
   "cell_type": "code",
   "execution_count": 12,
   "metadata": {},
   "outputs": [
    {
     "data": {
      "text/plain": [
       "(247154006, 8)"
      ]
     },
     "execution_count": 12,
     "metadata": {},
     "output_type": "execute_result"
    }
   ],
   "source": [
    "np.random.shuffle(bits_first)\n",
    "bits_first.shape"
   ]
  },
  {
   "cell_type": "code",
   "execution_count": 18,
   "metadata": {},
   "outputs": [
    {
     "name": "stderr",
     "output_type": "stream",
     "text": [
      "Add: 100%|██████████| 247154006/247154006 [30:22<00:00, 135580.20vector/s]\n"
     ]
    }
   ],
   "source": [
    "_ = index.add(None, bits_first, log=True)"
   ]
  },
  {
   "cell_type": "code",
   "execution_count": 19,
   "metadata": {},
   "outputs": [
    {
     "name": "stderr",
     "output_type": "stream",
     "text": [
      "Search: 100%|██████████| 247154006/247154006 [33:52<00:00, 121617.76vector/s]\n"
     ]
    }
   ],
   "source": [
    "matches = index.search(bits_first, 10, log=True)"
   ]
  },
  {
   "cell_type": "code",
   "execution_count": 20,
   "metadata": {},
   "outputs": [
    {
     "data": {
      "text/plain": [
       "usearch.Index\n",
       "- config\n",
       "-- data type: ScalarKind.B1\n",
       "-- dimensions: 64\n",
       "-- metric: MetricKind.Hamming\n",
       "-- multi: False\n",
       "-- connectivity: 16\n",
       "-- expansion on addition :128 candidates\n",
       "-- expansion on search: 64 candidates\n",
       "- binary\n",
       "-- uses OpenMP: 0\n",
       "-- uses SimSIMD: 1\n",
       "-- supports half-precision: 1\n",
       "-- uses hardware acceleration: ice\n",
       "- state\n",
       "-- size: 247,154,006 vectors\n",
       "-- memory usage: 73,001,884,864 bytes\n",
       "-- max level: 5\n",
       "--- 0. 247,154,006 nodes\n",
       "--- 1. 15,341,176 nodes\n",
       "--- 2. 976,320 nodes\n",
       "--- 3. 61,632 nodes\n",
       "--- 4. 3,648 nodes\n",
       "--- 5. 384 nodes"
      ]
     },
     "execution_count": 20,
     "metadata": {},
     "output_type": "execute_result"
    }
   ],
   "source": [
    "index"
   ]
  },
  {
   "cell_type": "code",
   "execution_count": 22,
   "metadata": {},
   "outputs": [
    {
     "data": {
      "text/plain": [
       "SearchStats(index_size=247154006, count_queries=247154006, count_matches=243969333, visited_members=21663765829, computed_distances=504377081463)"
      ]
     },
     "execution_count": 22,
     "metadata": {},
     "output_type": "execute_result"
    }
   ],
   "source": [
    "from usearch.eval import SearchStats\n",
    "\n",
    "keys = np.arange(bits_first.shape[0])\n",
    "count_matches: int = matches.count_matches(keys)\n",
    "stats = SearchStats(\n",
    "    index_size=len(index),\n",
    "    count_queries=len(keys),\n",
    "    count_matches=count_matches,\n",
    "    visited_members=matches.visited_members,\n",
    "    computed_distances=matches.computed_distances,\n",
    ")\n",
    "stats"
   ]
  },
  {
   "cell_type": "code",
   "execution_count": 23,
   "metadata": {},
   "outputs": [
    {
     "data": {
      "text/plain": [
       "0.9871146211564946"
      ]
     },
     "execution_count": 23,
     "metadata": {},
     "output_type": "execute_result"
    }
   ],
   "source": [
    "stats.mean_recall"
   ]
  },
  {
   "cell_type": "code",
   "execution_count": 24,
   "metadata": {},
   "outputs": [
    {
     "data": {
      "text/plain": [
       "0.9999917430427498"
      ]
     },
     "execution_count": 24,
     "metadata": {},
     "output_type": "execute_result"
    }
   ],
   "source": [
    "stats.mean_efficiency"
   ]
  },
  {
   "cell_type": "code",
   "execution_count": 25,
   "metadata": {},
   "outputs": [
    {
     "data": {
      "text/plain": [
       "SearchStats(index_size=247154006, count_queries=247154006, count_matches=241915137, visited_members=21663765829, computed_distances=504377081463)"
      ]
     },
     "execution_count": 25,
     "metadata": {},
     "output_type": "execute_result"
    }
   ],
   "source": [
    "count_matches_top1: int = matches.count_matches(keys, count=1)\n",
    "stats_top1 = SearchStats(\n",
    "    index_size=len(index),\n",
    "    count_queries=len(keys),\n",
    "    count_matches=count_matches_top1,\n",
    "    visited_members=matches.visited_members,\n",
    "    computed_distances=matches.computed_distances,\n",
    ")\n",
    "stats_top1"
   ]
  },
  {
   "cell_type": "code",
   "execution_count": 26,
   "metadata": {},
   "outputs": [
    {
     "data": {
      "text/plain": [
       "0.978803220369408"
      ]
     },
     "execution_count": 26,
     "metadata": {},
     "output_type": "execute_result"
    }
   ],
   "source": [
    "stats_top1.mean_recall"
   ]
  },
  {
   "cell_type": "code",
   "execution_count": 28,
   "metadata": {},
   "outputs": [
    {
     "data": {
      "text/plain": [
       "0.9999917430427498"
      ]
     },
     "execution_count": 28,
     "metadata": {},
     "output_type": "execute_result"
    }
   ],
   "source": [
    "stats_top1.mean_efficiency"
   ]
  },
  {
   "cell_type": "code",
   "execution_count": null,
   "metadata": {},
   "outputs": [],
   "source": []
  }
 ],
 "metadata": {
  "kernelspec": {
   "display_name": "base",
   "language": "python",
   "name": "python3"
  },
  "language_info": {
   "codemirror_mode": {
    "name": "ipython",
    "version": 3
   },
   "file_extension": ".py",
   "mimetype": "text/x-python",
   "name": "python",
   "nbconvert_exporter": "python",
   "pygments_lexer": "ipython3",
   "version": "3.12.2"
  }
 },
 "nbformat": 4,
 "nbformat_minor": 2
}
