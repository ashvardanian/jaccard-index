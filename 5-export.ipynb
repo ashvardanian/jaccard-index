{
 "cells": [
  {
   "cell_type": "markdown",
   "metadata": {},
   "source": [
    "# Export Compressed Metadata"
   ]
  },
  {
   "cell_type": "code",
   "execution_count": 20,
   "metadata": {},
   "outputs": [],
   "source": [
    "import os\n",
    "import pandas as pd\n",
    "import numpy as np\n",
    "import pyarrow.parquet as pq"
   ]
  },
  {
   "cell_type": "code",
   "execution_count": 2,
   "metadata": {},
   "outputs": [
    {
     "name": "stdout",
     "output_type": "stream",
     "text": [
      "rows: 100,000\n"
     ]
    }
   ],
   "source": [
    "file_path = 'cohere/en-00000.parquet'\n",
    "df = pq.read_table(file_path)\n",
    "print(f\"rows: {len(df):,}\")"
   ]
  },
  {
   "cell_type": "code",
   "execution_count": 3,
   "metadata": {},
   "outputs": [
    {
     "data": {
      "text/plain": [
       "pyarrow.Table\n",
       "_id: string\n",
       "url: string\n",
       "title: string\n",
       "text: string\n",
       "emb: list<item: float>\n",
       "  child 0, item: float\n",
       "----\n",
       "_id: [[\"20231101.en_13194570_0\",\"20231101.en_13194570_1\",\"20231101.en_13194570_2\",\"20231101.en_13194570_3\",\"20231101.en_13194570_4\",...,\"20231101.en_13212981_1\",\"20231101.en_13212981_2\",\"20231101.en_13212981_3\",\"20231101.en_13212981_4\",\"20231101.en_13212981_5\"],[\"20231101.en_13212981_6\",\"20231101.en_13212981_7\",\"20231101.en_13212983_0\",\"20231101.en_13212983_1\",\"20231101.en_13212983_2\",...,\"20231101.en_13231439_7\",\"20231101.en_13231439_8\",\"20231101.en_13231439_9\",\"20231101.en_13231439_10\",\"20231101.en_13231439_11\"],...,[\"20231101.en_13345126_1\",\"20231101.en_13345126_2\",\"20231101.en_13345126_3\",\"20231101.en_13345126_4\",\"20231101.en_13345126_5\",...,\"20231101.en_13364092_0\",\"20231101.en_13364092_1\",\"20231101.en_13364092_2\",\"20231101.en_13364092_3\",\"20231101.en_13364092_4\"],[\"20231101.en_13364092_5\",\"20231101.en_13364095_0\",\"20231101.en_13364095_1\",\"20231101.en_13364095_2\",\"20231101.en_13364095_3\",...,\"20231101.en_13383236_6\",\"20231101.en_13383236_7\",\"20231101.en_13383236_8\",\"20231101.en_13383236_9\",\"20231101.en_13383236_10\"]]\n",
       "url: [[\"https://en.wikipedia.org/wiki/British%20Arab%20Commercial%20Bank\",\"https://en.wikipedia.org/wiki/British%20Arab%20Commercial%20Bank\",\"https://en.wikipedia.org/wiki/British%20Arab%20Commercial%20Bank\",\"https://en.wikipedia.org/wiki/British%20Arab%20Commercial%20Bank\",\"https://en.wikipedia.org/wiki/British%20Arab%20Commercial%20Bank\",...,\"https://en.wikipedia.org/wiki/French%20battleship%20Diderot\",\"https://en.wikipedia.org/wiki/French%20battleship%20Diderot\",\"https://en.wikipedia.org/wiki/French%20battleship%20Diderot\",\"https://en.wikipedia.org/wiki/French%20battleship%20Diderot\",\"https://en.wikipedia.org/wiki/French%20battleship%20Diderot\"],[\"https://en.wikipedia.org/wiki/French%20battleship%20Diderot\",\"https://en.wikipedia.org/wiki/French%20battleship%20Diderot\",\"https://en.wikipedia.org/wiki/French%20battleship%20Condorcet\",\"https://en.wikipedia.org/wiki/French%20battleship%20Condorcet\",\"https://en.wikipedia.org/wiki/French%20battleship%20Condorcet\",...,\"https://en.wikipedia.org/wiki/Nicole%20Barnhart\",\"https://en.wikipedia.org/wiki/Nicole%20Barnhart\",\"https://en.wikipedia.org/wiki/Nicole%20Barnhart\",\"https://en.wikipedia.org/wiki/Nicole%20Barnhart\",\"https://en.wikipedia.org/wiki/Nicole%20Barnhart\"],...,[\"https://en.wikipedia.org/wiki/RPM%20Nautical%20Foundation\",\"https://en.wikipedia.org/wiki/RPM%20Nautical%20Foundation\",\"https://en.wikipedia.org/wiki/RPM%20Nautical%20Foundation\",\"https://en.wikipedia.org/wiki/RPM%20Nautical%20Foundation\",\"https://en.wikipedia.org/wiki/RPM%20Nautical%20Foundation\",...,\"https://en.wikipedia.org/wiki/Olin%20Wellborn\",\"https://en.wikipedia.org/wiki/Olin%20Wellborn\",\"https://en.wikipedia.org/wiki/Olin%20Wellborn\",\"https://en.wikipedia.org/wiki/Olin%20Wellborn\",\"https://en.wikipedia.org/wiki/Olin%20Wellborn\"],[\"https://en.wikipedia.org/wiki/Olin%20Wellborn\",\"https://en.wikipedia.org/wiki/James%20H.%20Jones%20%28Texas%20politician%29\",\"https://en.wikipedia.org/wiki/James%20H.%20Jones%20%28Texas%20politician%29\",\"https://en.wikipedia.org/wiki/James%20H.%20Jones%20%28Texas%20politician%29\",\"https://en.wikipedia.org/wiki/James%20H.%20Jones%20%28Texas%20politician%29\",...,\"https://en.wikipedia.org/wiki/The%20Little%20Humpbacked%20Horse%20%28ballet%29\",\"https://en.wikipedia.org/wiki/The%20Little%20Humpbacked%20Horse%20%28ballet%29\",\"https://en.wikipedia.org/wiki/The%20Little%20Humpbacked%20Horse%20%28ballet%29\",\"https://en.wikipedia.org/wiki/The%20Little%20Humpbacked%20Horse%20%28ballet%29\",\"https://en.wikipedia.org/wiki/The%20Little%20Humpbacked%20Horse%20%28ballet%29\"]]\n",
       "title: [[\"British Arab Commercial Bank\",\"British Arab Commercial Bank\",\"British Arab Commercial Bank\",\"British Arab Commercial Bank\",\"British Arab Commercial Bank\",...,\"French battleship Diderot\",\"French battleship Diderot\",\"French battleship Diderot\",\"French battleship Diderot\",\"French battleship Diderot\"],[\"French battleship Diderot\",\"French battleship Diderot\",\"French battleship Condorcet\",\"French battleship Condorcet\",\"French battleship Condorcet\",...,\"Nicole Barnhart\",\"Nicole Barnhart\",\"Nicole Barnhart\",\"Nicole Barnhart\",\"Nicole Barnhart\"],...,[\"RPM Nautical Foundation\",\"RPM Nautical Foundation\",\"RPM Nautical Foundation\",\"RPM Nautical Foundation\",\"RPM Nautical Foundation\",...,\"Olin Wellborn\",\"Olin Wellborn\",\"Olin Wellborn\",\"Olin Wellborn\",\"Olin Wellborn\"],[\"Olin Wellborn\",\"James H. Jones (Texas politician)\",\"James H. Jones (Texas politician)\",\"James H. Jones (Texas politician)\",\"James H. Jones (Texas politician)\",...,\"The Little Humpbacked Horse (ballet)\",\"The Little Humpbacked Horse (ballet)\",\"The Little Humpbacked Horse (ballet)\",\"The Little Humpbacked Horse (ballet)\",\"The Little Humpbacked Horse (ballet)\"]]\n",
       "text: [[\"The British Arab Commercial Bank PLC (BACB) is an international wholesale bank incorporated in the United Kingdom that is authorised by the Prudential Regulation Authority (PRA) and regulated by the PRA and the Financial Conduct Authority (FCA). It was founded in 1972 as UBAF Limited, adopted its current name in 1996, and registered as a public limited company in 2009. The bank has clients trading in and out of developing markets in the Middle East and Africa.\",\"BACB has a head office in London, and three representative offices in Algiers in Algeria, Tripoli in Libya and Abidjan in the Cote D'Ivoire. The bank has 17 sister banks across Europe, Asia and Africa. It is owned by three main shareholders - the Libyan Foreign Bank (87.80%), Banque Centrale Populaire (6.10%) and Banque Extérieure d'Algérie (6.10%).\",\"The bank provides services of trade finance, treasury, real estate lending, banking and payment services, and asset distribution and syndication. The current Chairman is Dr Yousef Abdullah Al Awadi, and the current Chief Executive Officer is Paul Jennings.\",\"The bank was founded in 1972 as UBAF Limited and changed its name to UBAF Bank Limited in 1977.  It began as an affiliate of Midland Bank, and became an affiliate of HSBC when HSBC took over Midland Bank in 1992. The bank adopted the name British Arab Commercial Bank in 1996.\",\"In 2009, Commercial Bank of Egypt sold its 8% stake. At the time, the other shareholders were HSBC (49%), Libyan Foreign Bank (26%), Bank Al-Maghrib (8%), and Banque Extérieure d’Algérie (8%). Banque Centrale Populaire eventually bought out Bank Al-Maghrib and thus gained a stake in BACB.\",...,\"Although the s were a significant improvement from the preceding , they were outclassed by the advent of the dreadnought well before they were completed. This, combined with other poor traits, including the great weight in coal they had to carry, making them rather unsuccessful ships, though their numerous rapid-firing guns were of some use in the Mediterranean.\",\"Diderot was  long overall and had a beam of  and a full-load draft of . She displaced  at deep load and had a crew of 681 officers and enlisted men. The ship was powered by four Parsons steam turbines using steam generated by twenty-six Belleville boilers. The turbines were rated at  and provided a top speed of around . Diderot, however, reached a top speed of  on her sea trials. She carried a maximum of  of coal which allowed her to steam for  at a speed of .\",\"Diderots main battery consisted of four 305mm/45 Modèle 1906 guns mounted in two twin gun turrets, one forward and one aft. The secondary battery consisted of twelve 240mm/50 Modèle 1902 guns in twin turrets, three on each side of the ship. A number of smaller guns were carried for defense against torpedo boats. These included sixteen  L/65 guns and ten  Hotchkiss guns. The ship was also armed with two submerged  torpedo tubes. The ship's waterline armor belt was  thick and the main battery was protected by up to  of armor. The conning tower also had 300 mm thick sides.\",\"During the war 75 mm anti-aircraft guns were installed on the roofs of the ship's two forward 240 mm gun turrets. During 1918, the elevation of the 240 mm guns was increased which extended their range to .\",\"Construction of Diderot began on 26 December 1906 by Ateliers et Chantiers de la Loire in Saint-Nazaire and the ship was laid down on 20 October 1907. She was launched on 19 April 1909 and was completed on 1 August 1911. The ship was assigned to the First Division of the First Squadron (escadre) of the Mediterranean Fleet when she was commissioned. The ship participated in combined fleet maneuvers between Provence and Tunisia in May–June 1913 and the subsequent naval review conducted by the President of France, Raymond Poincaré on 7 June 1913. Afterwards, Diderot joined her squadron in its tour of the Eastern Mediterranean in October–December 1913 and participated in the grand fleet exercise in the Mediterranean in May 1914.\"],[\"In early August 1914, the ship cruised the Strait of Sicily in an attempt to prevent the German battlecruiser  and the light cruiser  from breaking out to the West. On 16 August 1914 the combined Anglo-French Fleet under Admiral Auguste Boué de Lapeyrère, including Diderot, made a sweep of the Adriatic Sea. The Allied ships encountered the Austro-Hungarian cruiser , escorted by the destroyer , blockading the coast of Montenegro. There were too many ships for Zenta to escape, so she remained behind to allow Ulan to get away and was sunk by gunfire during the Battle of Antivari off the coast of Bar, Montenegro. Diderot subsequently participated in a number of raids into the Adriatic later in the year and patrolled the Ionian Islands. From December 1914 through 1917, the ship participated in the distant blockade of the Straits of Otranto while based in Corfu. In May 1918, Diderot became flagship of the First Division of the Second Squadron and was transferred that month to Mudros with her sister ships,  and , to prevent Goeben from breaking out into the Mediterranean and remained there until the end of the war.\",\"After the Armistice of Mudros was signed on 30 October between the Allies and the Ottoman Empire, the ship participated in the early stage of the occupation of Constantinople from 12 November to 12 December. Diderot was based in Toulon throughout 1919 and was modernized in 1922–25 to improve her underwater protection. The ship became a training ship in 1927 and was condemned in on 17 March 1937; sold to M. Gosselin-Duriez on 30 July 1937 for 3,557,010 FF, she arrived at Dunkirk for breaking up on 31 August.\",\"Condorcet was one of the six  semi-dreadnought battleships built for the French Navy in the  early 1900s. When World War I began in August 1914, she unsuccessfully searched for the German battlecruiser  and the light cruiser  in the Western and Central Mediterranean. Later that month, the ship participated in the Battle of Antivari in the Adriatic Sea and helped to sink an Austro-Hungarian protected cruiser. Condorcet spent most of the rest of the war blockading the Straits of Otranto and the Dardanelles to keep German, Austro-Hungarian and Turkish warships bottled up.\",\"After the war, she was modernized in 1923–1925 and subsequently became a training ship. In 1931, the ship was converted into an accommodation hulk. Condorcet was captured intact when the Germans occupied Vichy France in November 1942 and was used by them to house sailors of their navy (Kriegsmarine). She was badly damaged by Allied bombing in 1944, but was later raised and scrapped by 1949.\",\"Although the s were a significant improvement from the preceding , they were outclassed by the advent of the dreadnought well before they were completed. This, combined with other poor traits, including the great weight in coal they had to carry, made them  unsuccessful ships overall, though their numerous rapid-firing guns were of some use in the Mediterranean.\",...,\"Barnhart appeared in 22 games in 2014, recording 8 clean sheets. She played in both the semi-final and final for FCKC, helping them to win the 2014 NWSL Championship over the Seattle Reign.\",\"In 2015 she was named to the NWSL second XI after recording 8 clean sheets in 17 games. Barnhart was crowned NWSL Champion again in 2015 as FC Kansas City defeated Seattle Reign in the final for the second straight year.\",\"Barnhart had similarly strong numbers in 2016, starting 20 games and recording 6 clean sheets, but FC Kansas City failed to qualify for the playoffs. In 2017 Barnhart started all 24 games for FC Kansas City, and recorded 6 shutouts, however FCKC missed the playoffs for the second straight year.\",\"After FC Kansas City ceased operations following the 2017 season, Barnhart was officially added to the roster of the Utah Royals FC on February 12, 2018. Barnhart made her debut for the Royals on June 2 against Sky Blue FC as starting goalkeeper Abby Smith was away on international duty.\",\"Prior to the start of the 2021 season the Utah Royals were sold to KC NWSL. Barhart and Abby Smith split time until Barnhart was released on July 28 by the club.\"],...,[\"RPM Nautical Foundation (RPMNF) is organized to operate exclusively for charitable, scientific, literary and educational purposes, all within the meaning of sections 170(c)(2) and 501(c)(3) of the United States Internal Revenue Code. The purpose of the company is to engage in the detection, identification, study and preservation of nautical archaeological and historic sites for scientific research, public education, and the advancement of technology. The organization also provides fieldwork and training experience in the field to students and the personnel and staff of various government, cultural and educational institutions.\",\"Among the goals for RPMNF is to assist Mediterranean countries with the location, identification, assessment, and research of their submerged cultural material so that these resources can be protected for future generations.  Accordingly, RPMNF projects are carried out in conjunction with host governments in the Mediterranean and serve to protect submerged archaeological sites and maritime heritage in association with UNESCO's efforts to preserve world heritage sites. RPMNF policy stipulates that all artifacts are under the jurisdiction of the host government at all times. The location and assessment of wreck sites, as well as site and artifact analysis, can benefit governments that RPMNF works with, as it provides cultural authorities pertinent information for protecting archaeological resources like living things.\",\"Over the past decade RPMNF has made advances in maritime archaeology of the littoral region of the Mediterranean. RPMNF's research vessel, the R/V Hercules, is a purpose-built maritime archaeological platform that has seafloor mapping and three-dimensional modeling capabilities for identification of submerged cultural material sites. The vessel is designed as a self-sufficient base for projects in moderately deep littoral waters, typically limited to 500 m.  These operations include remote sensing equipment such as autonomous underwater vehicles (AUVs) and various multibeam systems, the deployment of ROVs, data and media processing and other research functions.  Hercules is equipped with a dynamic positioning system and advanced data processing capabilities, as well as deck space and lifting systems to transport and deploy survey equipment.  Potential sites are verified and documented with ROV investigation.  The ROV is employed for video and image documentation, sampling, artifact retrieval, and limited excavation of sites. The ROV is also employed for the excavation of deep-water sites; an excavation methodological process that RPMNF is helping to advance within the field of maritime archaeology.\",\"RPMNF research vessel R/V Hercules is Maltese flagged and based in Valletta, Malta during the winter months.  This research vessel can be deployed throughout the Mediterranean on a project basis.\",\"The foundation was established in 2001 by its president, George Robb, who was a director for the Institute of Nautical Archaeology.  As part of RPMNF's initial foundation, it was established as a supporting institute for the Institute of Nautical Archaeology  Early field work centered in Florida and select supporting projects in the Mediterranean.  In 2003, Dr. Jeff Royal became archaeological director, and took over as executive director in 2011, during which time RPMNF's focus has centered on the Mediterranean.  At the end of 2010, RPMNF entered into an agreement and is a supporting institute for the Program in Maritime Studies at East Carolina University.  RPMNF continues to grow its associations with Universities, individual scholars, students, and new countries around the Mediterranean.\",...,\"Olin Wellborn (June 18, 1843 – December 6, 1921) was a United States representative from Texas and a United States district judge of the United States District Court for the Southern District of California.\",\"Born on June 18, 1843, in Cumming, Forsyth County, Georgia, Wellborn attended the common schools, the University of North Carolina at Chapel Hill and graduated from Emory University in 1862. He enlisted in the Confederate States Army in 1861 and served throughout the American Civil War, attaining the rank of captain in Company B, Fourth Georgia Cavalry. At the close of the war he settled in Atlanta, Georgia. He studied law, was admitted to the bar and entered private practice in Atlanta from 1866 to 1871. He continued private practice in Dallas, Texas starting in 1871.\",\"Wellborn was elected as a Democrat from Texas's 3rd congressional district and Texas's 6th congressional district to the United States House of Representatives of the 46th United States Congress and to the three succeeding Congresses, serving from March 4, 1879, to March 3, 1887. He was Chairman of the Committee on Indian Affairs for the 48th and 49th United States Congresses. He was an unsuccessful candidate for renomination in 1886 to the 50th United States Congress.\",\"Following his departure from Congress, Wellborn resumed private practice in San Diego, California from 1887 to 1893, and in Los Angeles, California starting in 1893.\",\"Wellborn was nominated by President Grover Cleveland on February 25, 1895, to a seat on the United States District Court for the Southern District of California vacated by Judge Erskine Mayo Ross. He was confirmed by the United States Senate on March 1, 1895, and received his commission the same day. His service terminated on January 31, 1915, due to his retirement.\"],[\"Wellborn died on December 6, 1921, in Los Angeles. He was interred in Rosedale Cemetery (now Angelus-Rosedale Cemetery) in Los Angeles.\",\"Born in Shelby County, Alabama, Jones moved with his parents to Talladega County, Alabama, in early youth. He pursued an academic course and studied law. He was admitted to the bar in 1851 and commenced practice in Henderson, Texas.\",\"During the Civil War  Jones enlisted in the Confederate States Army and served as captain and lieutenant colonel of the Eleventh Texas Infantry, and later as colonel commanding the Third Brigade of Walker's Texas Division.\",\"Jones was elected as a Democrat to the Forty-eighth and Forty-ninth Congresses (March 4, 1883 – March 3, 1887).\",\"He resumed the practice of law in Henderson, Texas, and died there March 22, 1904. Jones was interred in the New Cemetery, Henderson, Texas.\",...,\"On the other hand, the ballet enjoyed success with the audience. In its turn, it triggered the creation of a series of Russian-style ballets on the Imperial scene. Simultaneously, the Moscow Imperial troupe developed a different style, combining classical European choreography with real Russian folk dance.\",\"In 1876, Sokolov re-staged the choreography of Saint-Léon in Moscow at the Bolshoi Theatre, using genuine Russian dances. This re-staging separated the two ways the ballet was performed - the classical dance in Saint Petersburg and the dance incorporated into the performance in Moscow. This eventually developed into two schools of Russian Ballet, which survived well into the 1930s. Subsequently, the Moscow school ceased to exist when a large number of Saint Petersburg dancers were moved to Moscow in the 1930s.\",\"A hundred years later, in 1960, the Russian composer Rodion Shchedrin created a new ballet on the same subject.\",\"Re-staging by Arthur Saint-Léon for the Ballet of the Moscow Imperial Bolshoi Theatre, with Cesare Pugni revising his original score. First presented on November 26, 1866, at the Moscow Imperial Bolshoi Theatre in Moscow, Russia. Principal Dancers - Marfa Muravieva (as the Tsar Maiden) and Timofei Stukolkin (as Ivanushka).\",\"Revival by José Mendez for the Ballet of the Moscow Imperial Bolshoi Theatre. First presented at the Moscow Imperial Bolshoi Theatre on December 26, 1893, in Moscow, Russia.\"]]\n",
       "emb: [[[0.0017852783,-0.040496826,0.0045814514,0.03768921,0.004020691,...,0.0063972473,-0.07849121,0.08496094,0.028213501,-0.039489746],[0.0051879883,-0.026306152,-0.011497498,0.05529785,0.023651123,...,-0.020843506,-0.018844604,0.041381836,0.03463745,-0.015716553],...,[0.014282227,0.019577026,0.033996582,0.007980347,-0.017990112,...,-0.016983032,-0.008422852,0.03540039,0.015182495,0.010398865],[0.0149383545,0.016296387,0.064697266,0.000102579594,-0.036865234,...,0.0071144104,-0.01864624,0.04119873,0.031311035,-0.022903442]],[[0.021026611,0.02230835,0.019546509,0.026275635,-0.031158447,...,-0.051239014,0.016281128,0.015403748,0.050689697,-0.045959473],[-0.017929077,-0.001291275,-0.0018863678,0.0284729,-0.04071045,...,-0.04043579,-0.025665283,0.026947021,0.06384277,-0.032165527],...,[0.02748108,0.042388916,0.005794525,0.04006958,-0.044921875,...,-0.06451416,0.015808105,-0.0028076172,-0.0038318634,0.016906738],[0.01739502,0.018173218,-0.03125,0.016342163,-0.0463562,...,-0.059417725,0.014038086,0.00459671,0.0003039837,0.03338623]],...,[[-0.024978638,0.018951416,-0.031982422,-0.046173096,0.024368286,...,0.000011503696,-0.012237549,0.037017822,0.023788452,-0.015686035],[-0.007369995,0.025405884,-0.0069351196,-0.019943237,0.024887085,...,-0.020019531,0.031341553,-0.015563965,0.018066406,0.014465332],...,[0.0015659332,0.021362305,0.023208618,0.017593384,-0.01864624,...,-0.0030994415,-0.01234436,0.034118652,-0.017532349,0.026916504],[0.0038146973,0.03479004,0.0038280487,0.002658844,-0.011459351,...,-0.031799316,0.018157959,-0.023101807,0.0011749268,0.062683105]],[[0.003276825,0.018066406,0.005168915,0.044677734,-0.034942627,...,-0.059753418,0.014945984,-0.008560181,0.053344727,-0.008422852],[0.006462097,0.011451721,0.030761719,0.03918457,-0.042175293,...,-0.099243164,0.043670654,-0.05819702,0.03933716,0.06750488],...,[0.02407837,0.03491211,-0.009635925,0.04244995,-0.061309814,...,0.008071899,-0.036956787,0.04248047,0.0041236877,0.035339355],[0.041656494,0.03677368,0.024383545,0.048217773,-0.061676025,...,0.020980835,-0.03930664,0.028182983,0.031463623,0.045288086]]]"
      ]
     },
     "execution_count": 3,
     "metadata": {},
     "output_type": "execute_result"
    }
   ],
   "source": [
    "df"
   ]
  },
  {
   "cell_type": "code",
   "execution_count": 4,
   "metadata": {},
   "outputs": [],
   "source": [
    "def yield_titles_and_links(dir):\n",
    "    filenames = sorted(os.listdir(dir))\n",
    "\n",
    "    # Iterate through all the Parquet files in the directory\n",
    "    for filename in filenames:\n",
    "        if filename.endswith(\".parquet\"):\n",
    "            file_path = os.path.join(dir, filename)\n",
    "            # Read the table from the Parquet file\n",
    "            df = pq.read_table(file_path)\n",
    "            yield from zip(df['title'], df['url'])"
   ]
  },
  {
   "cell_type": "code",
   "execution_count": 5,
   "metadata": {},
   "outputs": [
    {
     "data": {
      "text/plain": [
       "[(<pyarrow.StringScalar: 'Аԥсуа бызшәа'>,\n",
       "  <pyarrow.StringScalar: 'https://ab.wikipedia.org/wiki/%D0%90%D4%A5%D1%81%D1%83%D0%B0%20%D0%B1%D1%8B%D0%B7%D1%88%D3%99%D0%B0'>),\n",
       " (<pyarrow.StringScalar: 'Аԥсуа бызшәа'>,\n",
       "  <pyarrow.StringScalar: 'https://ab.wikipedia.org/wiki/%D0%90%D4%A5%D1%81%D1%83%D0%B0%20%D0%B1%D1%8B%D0%B7%D1%88%D3%99%D0%B0'>),\n",
       " (<pyarrow.StringScalar: 'Аԥсуа бызшәа'>,\n",
       "  <pyarrow.StringScalar: 'https://ab.wikipedia.org/wiki/%D0%90%D4%A5%D1%81%D1%83%D0%B0%20%D0%B1%D1%8B%D0%B7%D1%88%D3%99%D0%B0'>),\n",
       " (<pyarrow.StringScalar: 'Аҟәа'>,\n",
       "  <pyarrow.StringScalar: 'https://ab.wikipedia.org/wiki/%D0%90%D2%9F%D3%99%D0%B0'>),\n",
       " (<pyarrow.StringScalar: 'Аҟәа'>,\n",
       "  <pyarrow.StringScalar: 'https://ab.wikipedia.org/wiki/%D0%90%D2%9F%D3%99%D0%B0'>)]"
      ]
     },
     "execution_count": 5,
     "metadata": {},
     "output_type": "execute_result"
    }
   ],
   "source": [
    "from itertools import islice\n",
    "\n",
    "head = list(islice(yield_titles_and_links('cohere'), 5))\n",
    "head"
   ]
  },
  {
   "cell_type": "code",
   "execution_count": 6,
   "metadata": {},
   "outputs": [],
   "source": [
    "def to_str(x):\n",
    "    x = str(x).replace('\\n', ' ').replace('\\r', ' ')\n",
    "    if x is None and len(x) == 0:\n",
    "        return 'missing'\n",
    "    return x"
   ]
  },
  {
   "cell_type": "code",
   "execution_count": 6,
   "metadata": {},
   "outputs": [],
   "source": [
    "titles_file = 'cohere-titles.txt'\n",
    "urls_file = 'cohere-urls.txt'"
   ]
  },
  {
   "cell_type": "code",
   "execution_count": 7,
   "metadata": {},
   "outputs": [
    {
     "name": "stderr",
     "output_type": "stream",
     "text": [
      " 99%|█████████▉| 247154006/250000000 [22:48<00:15, 180636.29it/s]\n"
     ]
    }
   ],
   "source": [
    "from tqdm import tqdm\n",
    "\n",
    "upper_bound = int(250e6)\n",
    "\n",
    "# Open the files in write mode\n",
    "pbar = tqdm(total=upper_bound)\n",
    "with open(titles_file, 'w', encoding='utf-8') as tf, open(urls_file, 'w', encoding='utf-8') as uf:\n",
    "    for title, url in yield_titles_and_links('cohere'):\n",
    "        clean_title = to_str(title)\n",
    "        clean_url = to_str(url)\n",
    "        tf.write(clean_title + '\\n')\n",
    "        uf.write(clean_url + '\\n')\n",
    "        pbar.update(1)\n",
    "        \n",
    "pbar.close()"
   ]
  },
  {
   "cell_type": "markdown",
   "metadata": {},
   "source": [
    "## Validation\n",
    "\n",
    "Let's make sure that our search works as expected. For that, lets memory-map the titles and URLs with StringZilla and construct the index with USearch. We can start with a small dataset and then scale up."
   ]
  },
  {
   "cell_type": "code",
   "execution_count": 2,
   "metadata": {},
   "outputs": [
    {
     "name": "stdout",
     "output_type": "stream",
     "text": [
      "Collecting stringzilla\n",
      "  Downloading stringzilla-3.7.1-cp312-cp312-manylinux_2_17_x86_64.manylinux2014_x86_64.manylinux_2_28_x86_64.whl.metadata (72 kB)\n",
      "\u001b[2K     \u001b[90m━━━━━━━━━━━━━━━━━━━━━━━━━━━━━━━━━━━━━━━━\u001b[0m \u001b[32m72.9/72.9 kB\u001b[0m \u001b[31m7.3 MB/s\u001b[0m eta \u001b[36m0:00:00\u001b[0m\n",
      "\u001b[?25hDownloading stringzilla-3.7.1-cp312-cp312-manylinux_2_17_x86_64.manylinux2014_x86_64.manylinux_2_28_x86_64.whl (255 kB)\n",
      "\u001b[2K   \u001b[90m━━━━━━━━━━━━━━━━━━━━━━━━━━━━━━━━━━━━━━━━\u001b[0m \u001b[32m255.7/255.7 kB\u001b[0m \u001b[31m24.7 MB/s\u001b[0m eta \u001b[36m0:00:00\u001b[0m\n",
      "\u001b[?25hInstalling collected packages: stringzilla\n",
      "Successfully installed stringzilla-3.7.1\n"
     ]
    }
   ],
   "source": [
    "!pip install stringzilla"
   ]
  },
  {
   "cell_type": "code",
   "execution_count": 4,
   "metadata": {},
   "outputs": [],
   "source": [
    "from stringzilla import Str, Strs, File"
   ]
  },
  {
   "cell_type": "code",
   "execution_count": 9,
   "metadata": {},
   "outputs": [
    {
     "data": {
      "text/plain": [
       "<stringzilla.Strs object at 0x70713c3d4270>"
      ]
     },
     "execution_count": 9,
     "metadata": {},
     "output_type": "execute_result"
    }
   ],
   "source": [
    "rows_titles = Str(File(titles_file)).split('\\n')\n",
    "len(rows_titles)"
   ]
  },
  {
   "cell_type": "code",
   "execution_count": 14,
   "metadata": {},
   "outputs": [
    {
     "data": {
      "text/plain": [
       "247154007"
      ]
     },
     "execution_count": 14,
     "metadata": {},
     "output_type": "execute_result"
    }
   ],
   "source": [
    "rows_urls = Str(File(urls_file)).split('\\n')\n",
    "len(rows_urls)"
   ]
  },
  {
   "cell_type": "code",
   "execution_count": 12,
   "metadata": {},
   "outputs": [
    {
     "data": {
      "text/plain": [
       "sz.Str('I-Titanic Thompson')"
      ]
     },
     "execution_count": 12,
     "metadata": {},
     "output_type": "execute_result"
    }
   ],
   "source": [
    "rows_titles[-2]"
   ]
  },
  {
   "cell_type": "code",
   "execution_count": 39,
   "metadata": {},
   "outputs": [
    {
     "data": {
      "text/plain": [
       "sz.Str('Аҟәа')"
      ]
     },
     "execution_count": 39,
     "metadata": {},
     "output_type": "execute_result"
    }
   ],
   "source": [
    "rows_titles[10]"
   ]
  },
  {
   "cell_type": "code",
   "execution_count": 40,
   "metadata": {},
   "outputs": [
    {
     "data": {
      "text/plain": [
       "sz.Str('https://ab.wikipedia.org/wiki/%D0%90%D2%9F%D3%99%D0%B0')"
      ]
     },
     "execution_count": 40,
     "metadata": {},
     "output_type": "execute_result"
    }
   ],
   "source": [
    "rows_urls[10]"
   ]
  },
  {
   "cell_type": "code",
   "execution_count": 13,
   "metadata": {},
   "outputs": [
    {
     "data": {
      "text/plain": [
       "<stringzilla.File at 0x70713c3390b0>"
      ]
     },
     "execution_count": 13,
     "metadata": {},
     "output_type": "execute_result"
    }
   ],
   "source": [
    "File(titles_file)"
   ]
  },
  {
   "cell_type": "code",
   "execution_count": 15,
   "metadata": {},
   "outputs": [],
   "source": [
    "from usearch.io import load_matrix"
   ]
  },
  {
   "cell_type": "code",
   "execution_count": 41,
   "metadata": {},
   "outputs": [
    {
     "data": {
      "text/plain": [
       "(247154006, 1024)"
      ]
     },
     "execution_count": 41,
     "metadata": {},
     "output_type": "execute_result"
    }
   ],
   "source": [
    "upper_bound = None # 10_000_000\n",
    "vectors_hbin = load_matrix(\n",
    "    'vectors.hbin', \n",
    "    count_rows=upper_bound, \n",
    "    view=True,\n",
    ")\n",
    "vectors_hbin.shape"
   ]
  },
  {
   "cell_type": "code",
   "execution_count": 42,
   "metadata": {},
   "outputs": [
    {
     "data": {
      "text/plain": [
       "memmap([ 0.04727 ,  0.0861  , -0.01083 , ...,  0.03882 , -0.03372 ,\n",
       "        -0.011894], dtype=float16)"
      ]
     },
     "execution_count": 42,
     "metadata": {},
     "output_type": "execute_result"
    }
   ],
   "source": [
    "vectors_hbin[0]"
   ]
  },
  {
   "cell_type": "code",
   "execution_count": 67,
   "metadata": {},
   "outputs": [
    {
     "data": {
      "text/plain": [
       "((247154006, 128), (247154006, 1024))"
      ]
     },
     "execution_count": 67,
     "metadata": {},
     "output_type": "execute_result"
    }
   ],
   "source": [
    "upper_bound = None # 10_000_000\n",
    "vectors_binary = load_matrix(\n",
    "    'vectors-binary-1024d.bbin', \n",
    "    count_rows=upper_bound, \n",
    "    view=True,\n",
    ")\n",
    "vectors_float = load_matrix(\n",
    "    'vectors.hbin', \n",
    "    count_rows=upper_bound, \n",
    "    view=True,\n",
    ")\n",
    "vectors_binary.shape, vectors_float.shape"
   ]
  },
  {
   "cell_type": "code",
   "execution_count": 47,
   "metadata": {},
   "outputs": [],
   "source": [
    "from usearch.index import Index"
   ]
  },
  {
   "cell_type": "code",
   "execution_count": 69,
   "metadata": {},
   "outputs": [
    {
     "data": {
      "text/plain": [
       "'haswell'"
      ]
     },
     "execution_count": 69,
     "metadata": {},
     "output_type": "execute_result"
    }
   ],
   "source": [
    "from usearch.index import Index, MetricKind\n",
    "index_float = Index(ndim=1024, metric=MetricKind.Cos)\n",
    "index_float.hardware_acceleration"
   ]
  },
  {
   "cell_type": "code",
   "execution_count": 49,
   "metadata": {},
   "outputs": [
    {
     "data": {
      "text/plain": [
       "'ice'"
      ]
     },
     "execution_count": 49,
     "metadata": {},
     "output_type": "execute_result"
    }
   ],
   "source": [
    "from usearch.index import Index, MetricKind\n",
    "index64 = Index(ndim=64, metric=MetricKind.Hamming)\n",
    "index128 = Index(ndim=128, metric=MetricKind.Hamming)\n",
    "index256 = Index(ndim=256, metric=MetricKind.Hamming)\n",
    "index512 = Index(ndim=512, metric=MetricKind.Hamming)\n",
    "index1024 = Index(ndim=1024, metric=MetricKind.Hamming)\n",
    "\n",
    "index64.hardware_acceleration"
   ]
  },
  {
   "cell_type": "code",
   "execution_count": 50,
   "metadata": {},
   "outputs": [],
   "source": [
    "keys = np.arange(vectors_binary.shape[0])"
   ]
  },
  {
   "cell_type": "code",
   "execution_count": 51,
   "metadata": {},
   "outputs": [
    {
     "name": "stderr",
     "output_type": "stream",
     "text": [
      "Add: 100%|██████████| 247154006/247154006 [30:52<00:00, 133389.97vector/s]\n"
     ]
    }
   ],
   "source": [
    "_ = index64.add(keys, vectors_binary[:, :8], log=True)"
   ]
  },
  {
   "cell_type": "code",
   "execution_count": 52,
   "metadata": {},
   "outputs": [
    {
     "name": "stderr",
     "output_type": "stream",
     "text": [
      "Add: 100%|██████████| 247154006/247154006 [29:45<00:00, 138450.34vector/s]\n"
     ]
    }
   ],
   "source": [
    "_ = index128.add(keys, vectors_binary[:, :128//8], log=True)"
   ]
  },
  {
   "cell_type": "code",
   "execution_count": 53,
   "metadata": {},
   "outputs": [
    {
     "name": "stderr",
     "output_type": "stream",
     "text": [
      "Add: 100%|██████████| 247154006/247154006 [31:09<00:00, 132208.74vector/s]\n"
     ]
    }
   ],
   "source": [
    "_ = index256.add(keys, vectors_binary[:, :256//8], log=True)"
   ]
  },
  {
   "cell_type": "code",
   "execution_count": 54,
   "metadata": {},
   "outputs": [
    {
     "name": "stderr",
     "output_type": "stream",
     "text": [
      "Add: 100%|██████████| 247154006/247154006 [30:17<00:00, 135956.80vector/s]\n"
     ]
    }
   ],
   "source": [
    "_ = index512.add(keys, vectors_binary[:, :512//8], log=True)"
   ]
  },
  {
   "cell_type": "code",
   "execution_count": 55,
   "metadata": {},
   "outputs": [
    {
     "name": "stderr",
     "output_type": "stream",
     "text": [
      "Add: 100%|██████████| 247154006/247154006 [30:13<00:00, 136264.07vector/s]\n"
     ]
    }
   ],
   "source": [
    "_ = index1024.add(keys, vectors_binary[:, :1024//8], log=True)"
   ]
  },
  {
   "cell_type": "code",
   "execution_count": 56,
   "metadata": {},
   "outputs": [
    {
     "data": {
      "text/plain": [
       "usearch.Index\n",
       "- config\n",
       "-- data type: ScalarKind.B1\n",
       "-- dimensions: 1024\n",
       "-- metric: MetricKind.Hamming\n",
       "-- multi: False\n",
       "-- connectivity: 16\n",
       "-- expansion on addition :128 candidates\n",
       "-- expansion on search: 64 candidates\n",
       "- binary\n",
       "-- uses OpenMP: 0\n",
       "-- uses SimSIMD: 1\n",
       "-- supports half-precision: 1\n",
       "-- uses hardware acceleration: ice\n",
       "- state\n",
       "-- size: 247,154,006 vectors\n",
       "-- memory usage: 105,214,139,584 bytes\n",
       "-- max level: 5\n",
       "--- 0. 247,154,006 nodes\n",
       "--- 1. 15,341,176 nodes\n",
       "--- 2. 976,320 nodes\n",
       "--- 3. 61,632 nodes\n",
       "--- 4. 3,648 nodes\n",
       "--- 5. 384 nodes"
      ]
     },
     "execution_count": 56,
     "metadata": {},
     "output_type": "execute_result"
    }
   ],
   "source": [
    "index1024"
   ]
  },
  {
   "cell_type": "code",
   "execution_count": 70,
   "metadata": {},
   "outputs": [
    {
     "name": "stderr",
     "output_type": "stream",
     "text": [
      "Add: 100%|██████████| 247154006/247154006 [1:25:28<00:00, 48191.05vector/s]\n"
     ]
    }
   ],
   "source": [
    "_ = index_float.add(keys, vectors_float, log=True)"
   ]
  },
  {
   "cell_type": "code",
   "execution_count": 71,
   "metadata": {},
   "outputs": [],
   "source": [
    "index_float.save('index-float-1024d.usearch')"
   ]
  },
  {
   "cell_type": "code",
   "execution_count": 57,
   "metadata": {},
   "outputs": [],
   "source": [
    "index1024.save('vectors-binary-1024.usearch')"
   ]
  },
  {
   "cell_type": "code",
   "execution_count": 58,
   "metadata": {},
   "outputs": [],
   "source": [
    "index512.save('vectors-binary-512.usearch')"
   ]
  },
  {
   "cell_type": "code",
   "execution_count": 59,
   "metadata": {},
   "outputs": [],
   "source": [
    "index256.save('vectors-binary-256.usearch')"
   ]
  },
  {
   "cell_type": "code",
   "execution_count": 60,
   "metadata": {},
   "outputs": [],
   "source": [
    "index128.save('vectors-binary-128.usearch')"
   ]
  },
  {
   "cell_type": "markdown",
   "metadata": {},
   "source": [
    "Now let's random sample some entries and print top 10 closest matches for each of them."
   ]
  },
  {
   "cell_type": "code",
   "execution_count": 104,
   "metadata": {},
   "outputs": [],
   "source": [
    "lookup_size = int(1e6)\n",
    "candidates = 10\n",
    "indexes = [(index64, 64), (index128, 128), (index256, 256), (index512, 512), (index1024, 1024)]\n",
    "keys_queries = np.random.choice(keys, lookup_size, replace=False)"
   ]
  },
  {
   "cell_type": "code",
   "execution_count": 105,
   "metadata": {},
   "outputs": [
    {
     "name": "stderr",
     "output_type": "stream",
     "text": [
      "Search: 100%|██████████| 1000000/1000000 [00:05<00:00, 196426.19vector/s]\n",
      "Search: 100%|██████████| 1000000/1000000 [00:02<00:00, 346744.21vector/s]\n",
      "Search: 100%|██████████| 1000000/1000000 [00:03<00:00, 298790.95vector/s]\n",
      "Search: 100%|██████████| 1000000/1000000 [00:03<00:00, 303244.66vector/s]\n",
      "Search: 100%|██████████| 1000000/1000000 [00:03<00:00, 284561.83vector/s]\n"
     ]
    },
    {
     "data": {
      "text/plain": [
       "[usearch.BatchMatches(10000000 across 1000000 queries),\n",
       " usearch.BatchMatches(10000000 across 1000000 queries),\n",
       " usearch.BatchMatches(10000000 across 1000000 queries),\n",
       " usearch.BatchMatches(10000000 across 1000000 queries),\n",
       " usearch.BatchMatches(10000000 across 1000000 queries)]"
      ]
     },
     "execution_count": 105,
     "metadata": {},
     "output_type": "execute_result"
    }
   ],
   "source": [
    "matches_per_index = [index.search(vectors_binary[keys_queries, :ndim // 8], candidates, log=True) for index, ndim in indexes]\n",
    "matches_per_index"
   ]
  },
  {
   "cell_type": "markdown",
   "metadata": {},
   "source": [
    "For larger batches you may not want to log the matches, but for now, let's log them to make sure that the search is working as expected."
   ]
  },
  {
   "cell_type": "code",
   "execution_count": 65,
   "metadata": {},
   "outputs": [
    {
     "name": "stdout",
     "output_type": "stream",
     "text": [
      "Index: 0 - 64 bits\n",
      "0. Query: #43093098 = Geschichte von Lauchringen\n",
      "  0. Match: Match(key=43093098, distance=0.0) = Geschichte von Lauchringen\n",
      "  1. Match: Match(key=111024319, distance=4.0) = Alan Belcher\n",
      "  2. Match: Match(key=37118816, distance=5.0) = Walter Laqueur\n",
      "  3. Match: Match(key=54026435, distance=5.0) = BMW Z\n",
      "  4. Match: Match(key=79245825, distance=5.0) = Online to offline\n",
      "1. Query: #211804521 = Гийотьер — Габриель Пери (станция метро)\n",
      "  0. Match: Match(key=232645856, distance=5.0) = Едуард Смірнов\n",
      "  1. Match: Match(key=232617796, distance=5.0) = Персида Ненадович\n",
      "  2. Match: Match(key=200516064, distance=6.0) = Рио-Гранде-Сити\n",
      "  3. Match: Match(key=232653332, distance=6.0) = FELIN\n",
      "  4. Match: Match(key=172197880, distance=6.0) = 115 (ierakstu kompānija)\n",
      "2. Query: #22017906 = Arroyo Falero\n",
      "  0. Match: Match(key=22017906, distance=0.0) = Arroyo Falero\n",
      "  1. Match: Match(key=21514580, distance=3.0) = Arroyo Platanarito\n",
      "  2. Match: Match(key=26621054, distance=3.0) = Umbreia Pequena\n",
      "  3. Match: Match(key=18918418, distance=3.0) = Cerro Limeños\n",
      "  4. Match: Match(key=19965955, distance=3.0) = Lequio Tanaro (munisipyo)\n",
      "Index: 1 - 128 bits\n",
      "0. Query: #43093098 = Geschichte von Lauchringen\n",
      "  0. Match: Match(key=43592387, distance=22.0) = Ulrich Fox (Heimatforscher)\n",
      "  1. Match: Match(key=80707608, distance=22.0) = Laichingen\n",
      "  2. Match: Match(key=218663373, distance=23.0) = Пиротски ћилим\n",
      "  3. Match: Match(key=186974949, distance=23.0) = Trzęsawisko\n",
      "  4. Match: Match(key=195150405, distance=23.0) = Sociologia\n",
      "1. Query: #211804521 = Гийотьер — Габриель Пери (станция метро)\n",
      "  0. Match: Match(key=211804521, distance=0.0) = Гийотьер — Габриель Пери (станция метро)\n",
      "  1. Match: Match(key=201732283, distance=18.0) = Линия 10 (Парижское метро)\n",
      "  2. Match: Match(key=213754944, distance=19.0) = Karasira Clarisse\n",
      "  3. Match: Match(key=146126940, distance=22.0) = Բալատոն (լիճ)\n",
      "  4. Match: Match(key=206974421, distance=23.0) = Равеаи\n",
      "2. Query: #22017906 = Arroyo Falero\n",
      "  0. Match: Match(key=22017906, distance=0.0) = Arroyo Falero\n",
      "  1. Match: Match(key=20388103, distance=10.0) = Arroyo Plátano (lungsod)\n",
      "  2. Match: Match(key=21474511, distance=11.0) = Arroyo Divisador\n",
      "  3. Match: Match(key=21514580, distance=11.0) = Arroyo Platanarito\n",
      "  4. Match: Match(key=21485296, distance=13.0) = Arroyo Matrero (suba nga anhianhi)\n",
      "Index: 2 - 256 bits\n",
      "0. Query: #43093098 = Geschichte von Lauchringen\n",
      "  0. Match: Match(key=43093098, distance=0.0) = Geschichte von Lauchringen\n",
      "  1. Match: Match(key=205483048, distance=56.0) = Пумпур, Андрей Индрикович\n",
      "  2. Match: Match(key=50329415, distance=56.0) = Der Wohlstand der Nationen\n",
      "  3. Match: Match(key=43092946, distance=57.0) = Geschichte von Lauchringen\n",
      "  4. Match: Match(key=43430864, distance=58.0) = Geschichte der Tuchindustrie in Cottbus\n",
      "1. Query: #211804521 = Гийотьер — Габриель Пери (станция метро)\n",
      "  0. Match: Match(key=211804521, distance=0.0) = Гийотьер — Габриель Пери (станция метро)\n",
      "  1. Match: Match(key=211804526, distance=53.0) = Гарибальди (станция метро, Лион)\n",
      "  2. Match: Match(key=200021370, distance=57.0) = Палестро (станция метро)\n",
      "  3. Match: Match(key=210635563, distance=57.0) = Богачево (Смоленская область)\n",
      "  4. Match: Match(key=211601759, distance=58.0) = Плас Гишар — Бурс дю Травай (станция метро)\n",
      "2. Query: #22017906 = Arroyo Falero\n",
      "  0. Match: Match(key=22017906, distance=0.0) = Arroyo Falero\n",
      "  1. Match: Match(key=21514580, distance=27.0) = Arroyo Platanarito\n",
      "  2. Match: Match(key=22104682, distance=32.0) = Arroyo Malatoro\n",
      "  3. Match: Match(key=21471820, distance=34.0) = Arroyo Morato\n",
      "  4. Match: Match(key=20388103, distance=35.0) = Arroyo Plátano (lungsod)\n",
      "Index: 3 - 512 bits\n",
      "0. Query: #43093098 = Geschichte von Lauchringen\n",
      "  0. Match: Match(key=141906293, distance=150.0) = Kristina Leko\n",
      "  1. Match: Match(key=42468967, distance=152.0) = Roa (Burgos)\n",
      "  2. Match: Match(key=44578796, distance=154.0) = Orotukan\n",
      "  3. Match: Match(key=42420746, distance=156.0) = Liste der Straßennamen von Wien/Ottakring\n",
      "  4. Match: Match(key=51319837, distance=156.0) = Mündling\n",
      "1. Query: #211804521 = Гийотьер — Габриель Пери (станция метро)\n",
      "  0. Match: Match(key=211804521, distance=0.0) = Гийотьер — Габриель Пери (станция метро)\n",
      "  1. Match: Match(key=211804526, distance=90.0) = Гарибальди (станция метро, Лион)\n",
      "  2. Match: Match(key=211804559, distance=104.0) = Парийи (станция метро)\n",
      "  3. Match: Match(key=211577890, distance=110.0) = Белькур (станция метро)\n",
      "  4. Match: Match(key=211601607, distance=112.0) = Гар Пар-Дьё — Вивье Мерль (станция метро)\n",
      "2. Query: #22017906 = Arroyo Falero\n",
      "  0. Match: Match(key=22017906, distance=0.0) = Arroyo Falero\n",
      "  1. Match: Match(key=21684815, distance=76.0) = Arroyo Varero\n",
      "  2. Match: Match(key=21514580, distance=76.0) = Arroyo Platanarito\n",
      "  3. Match: Match(key=22157557, distance=78.0) = Arroyo del Valle Martín\n",
      "  4. Match: Match(key=22014647, distance=80.0) = Arroyo Majadero\n",
      "Index: 4 - 1024 bits\n",
      "0. Query: #43093098 = Geschichte von Lauchringen\n",
      "  0. Match: Match(key=43093098, distance=0.0) = Geschichte von Lauchringen\n",
      "  1. Match: Match(key=43093047, distance=207.0) = Geschichte von Lauchringen\n",
      "  2. Match: Match(key=43093097, distance=220.0) = Geschichte von Lauchringen\n",
      "  3. Match: Match(key=46723130, distance=225.0) = Lauchringen\n",
      "  4. Match: Match(key=43093063, distance=227.0) = Geschichte von Lauchringen\n",
      "1. Query: #211804521 = Гийотьер — Габриель Пери (станция метро)\n",
      "  0. Match: Match(key=211804521, distance=0.0) = Гийотьер — Габриель Пери (станция метро)\n",
      "  1. Match: Match(key=211804526, distance=193.0) = Гарибальди (станция метро, Лион)\n",
      "  2. Match: Match(key=211804559, distance=220.0) = Парийи (станция метро)\n",
      "  3. Match: Match(key=211804534, distance=226.0) = Монплезир — Люмьер (станция метро)\n",
      "  4. Match: Match(key=211802915, distance=227.0) = Сакс — Гамбетта (станция метро)\n",
      "2. Query: #22017906 = Arroyo Falero\n",
      "  0. Match: Match(key=22017906, distance=0.0) = Arroyo Falero\n",
      "  1. Match: Match(key=21506719, distance=164.0) = Arroyo Flechadero\n",
      "  2. Match: Match(key=21684815, distance=174.0) = Arroyo Varero\n",
      "  3. Match: Match(key=22022016, distance=174.0) = Arroyo Alberro\n",
      "  4. Match: Match(key=21477980, distance=176.0) = Arroyo del Llano Parejo\n"
     ]
    }
   ],
   "source": [
    "for i, (index, ndim) in enumerate(indexes):\n",
    "    matches_of_index = matches_per_index[i]\n",
    "    print(f\"Index: {i} - {ndim} bits\")\n",
    "    for i, (query_key, query_matches) in enumerate(zip(keys_queries, matches_of_index)):\n",
    "        print(f\"{i}. Query: #{query_key} = {rows_titles[int(query_key)]}\")\n",
    "        for j, match in enumerate(query_matches):        \n",
    "            print(f\"  {j}. Match: {match} = {rows_titles[int(match.key)]}\")"
   ]
  },
  {
   "cell_type": "markdown",
   "metadata": {},
   "source": [
    "Outputting recall isn't enough to compare the performance of different methods. Instead, we can use NDCG@10 to compare the quality of the search results. We can use the following formula to calculate NDCG@10:\n",
    "\n",
    "$$\n",
    "NDCG@10 = \\frac{DCG@10}{IDCG@10}\n",
    "$$\n",
    "\n",
    "where DCG@10 is the discounted cumulative gain at 10 and IDCG@10 is the ideal discounted cumulative gain at 10. The formula for DCG@10 is:"
   ]
  },
  {
   "cell_type": "code",
   "execution_count": 106,
   "metadata": {},
   "outputs": [
    {
     "name": "stderr",
     "output_type": "stream",
     "text": [
      "Search: 100%|██████████| 1000000/1000000 [00:11<00:00, 90839.21vector/s]\n"
     ]
    },
    {
     "data": {
      "text/plain": [
       "usearch.BatchMatches(10000000 across 1000000 queries)"
      ]
     },
     "execution_count": 106,
     "metadata": {},
     "output_type": "execute_result"
    }
   ],
   "source": [
    "matches_float = index_float.search(vectors_float[keys_queries], candidates, log=True)\n",
    "matches_float"
   ]
  },
  {
   "cell_type": "code",
   "execution_count": 126,
   "metadata": {},
   "outputs": [],
   "source": [
    "def sum_geometric_series(a, r, n):\n",
    "    \"\"\"\n",
    "    Computes the sum of the first n terms of a geometric series.\n",
    "    \n",
    "    Parameters:\n",
    "    a (float): The first term of the series.\n",
    "    r (float): The common ratio.\n",
    "    n (int): The number of terms.\n",
    "    \n",
    "    Returns:\n",
    "    float: The sum of the first n terms.\n",
    "    \"\"\"\n",
    "    if r == 1:  # Special case where the series does not converge\n",
    "        return a * n\n",
    "    else:\n",
    "        return a * (1 - r**n) / (1 - r)\n",
    "\n",
    "\n",
    "def rank_distance(expected: np.ndarray, predicted: np.ndarray, weight_multiplier: float = 0.9, penalize_missing: bool = True) -> float:\n",
    "    assert len(expected) == len(predicted), \"Expected and predicted arrays must be of the same length.\"\n",
    "    assert len(set(expected)) == len(expected), \"Expected array must not contain duplicate items.\"\n",
    "    assert len(set(predicted)) == len(predicted), \"Predicted array must not contain duplicate items.\"\n",
    "    \n",
    "    n = len(expected)\n",
    "    common_items = np.intersect1d(expected, predicted)\n",
    "    \n",
    "    def one_side(keys, other):\n",
    "        local = 0\n",
    "        weight = 1\n",
    "        for rank, key in enumerate(keys):\n",
    "            if key in common_items:\n",
    "                rank_in_other = np.where(other == key)[0][0]\n",
    "                local += abs(rank - rank_in_other) * weight\n",
    "            elif penalize_missing:\n",
    "                local += (n - rank) * weight\n",
    "            weight *= weight_multiplier\n",
    "        return local\n",
    "\n",
    "    total = one_side(predicted, expected) + one_side(expected, predicted)\n",
    "    \n",
    "    count_ranks = 2 * (len(common_items) if not penalize_missing else n)\n",
    "    if count_ranks == 0:\n",
    "        return 1.0\n",
    "    \n",
    "    max_rank_difference = n\n",
    "    upper_bound = max_rank_difference * sum_geometric_series(1, weight_multiplier, count_ranks)        \n",
    "    return total / upper_bound"
   ]
  },
  {
   "cell_type": "code",
   "execution_count": null,
   "metadata": {},
   "outputs": [],
   "source": [
    "from tqdm import tqdm\n",
    "\n",
    "mean_rank_distance = np.zeros(len(matches_per_index), dtype=np.float64)\n",
    "\n",
    "for lookup_idx in tqdm(range(lookup_size)):\n",
    "    expected = [m.key for m in matches_float[lookup_idx]]\n",
    "    for i, matches_of_index in enumerate(matches_per_index):\n",
    "        received = [m.key for m in matches_of_index[lookup_idx]]\n",
    "        mean_rank_distance[i] += rank_distance(expected, received, 0.9, True)\n",
    "\n",
    "mean_rank_distance /= lookup_size\n",
    "mean_rank_distance"
   ]
  },
  {
   "cell_type": "markdown",
   "metadata": {},
   "source": [
    "Let's also measure the precision at 10 and the recall at 10. We can use the following formulas to calculate precision and recall:\n",
    "\n",
    "$$\n",
    "Precision@10 = \\frac{TP}{TP + FP}\n",
    "$$\n",
    "\n",
    "$$\n",
    "Recall@10 = \\frac{TP}{TP + FN}\n",
    "$$\n",
    "\n",
    "where TP is the number of true positives, FP is the number of false positives, and FN is the number of false negatives."
   ]
  },
  {
   "cell_type": "code",
   "execution_count": null,
   "metadata": {},
   "outputs": [],
   "source": [
    "from tqdm import tqdm\n",
    "\n",
    "mean_recall_at_10 = np.zeros(len(matches_per_index), dtype=np.float64)\n",
    "for lookup_idx in tqdm(range(lookup_size)):\n",
    "    top_expected = matches_float[lookup_idx][0]\n",
    "    for i, matches_of_index in enumerate(matches_per_index):\n",
    "        was_found = False\n",
    "        for m in matches_of_index[lookup_idx]:\n",
    "            if int(m.key) == int(top_expected.key):\n",
    "                was_found = True\n",
    "                break\n",
    "        mean_recall_at_10[i] += int(was_found)\n",
    "\n",
    "mean_recall_at_10 /= lookup_size\n",
    "mean_recall_at_10"
   ]
  },
  {
   "cell_type": "code",
   "execution_count": null,
   "metadata": {},
   "outputs": [],
   "source": [
    "from tqdm import tqdm\n",
    "\n",
    "mean_precision_at_10 = np.zeros(len(matches_per_index), dtype=np.float64)\n",
    "\n",
    "for lookup_idx in tqdm(range(lookup_size)):\n",
    "    expected = [m.key for m in matches_float[lookup_idx]]\n",
    "    for i, matches_of_index in enumerate(matches_per_index):\n",
    "        received = [m.key for m in matches_of_index[lookup_idx]]\n",
    "        intersection = np.intersect1d(expected, received)\n",
    "        mean_precision_at_10[i] += len(intersection) / len(received)\n",
    "\n",
    "mean_precision_at_10 /= lookup_size\n",
    "mean_precision_at_10"
   ]
  }
 ],
 "metadata": {
  "kernelspec": {
   "display_name": "base",
   "language": "python",
   "name": "python3"
  },
  "language_info": {
   "codemirror_mode": {
    "name": "ipython",
    "version": 3
   },
   "file_extension": ".py",
   "mimetype": "text/x-python",
   "name": "python",
   "nbconvert_exporter": "python",
   "pygments_lexer": "ipython3",
   "version": "3.12.2"
  }
 },
 "nbformat": 4,
 "nbformat_minor": 2
}
